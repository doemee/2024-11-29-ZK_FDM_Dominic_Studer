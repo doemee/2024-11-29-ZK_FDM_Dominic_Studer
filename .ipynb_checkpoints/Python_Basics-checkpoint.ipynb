{
 "cells": [
  {
   "cell_type": "markdown",
   "id": "74fed820-6080-4176-a273-462543180079",
   "metadata": {},
   "source": [
    "# Python Einführung"
   ]
  },
  {
   "cell_type": "code",
   "execution_count": 4,
   "id": "f53ece60-2fad-4626-a398-1b5570892395",
   "metadata": {},
   "outputs": [
    {
     "name": "stdout",
     "output_type": "stream",
     "text": [
      "Hello world!\n"
     ]
    }
   ],
   "source": [
    "print(\"Hello world!\")"
   ]
  },
  {
   "cell_type": "code",
   "execution_count": 5,
   "id": "32de91bb-2c85-4f99-bdf2-f797b7cf3abc",
   "metadata": {},
   "outputs": [
    {
     "name": "stdout",
     "output_type": "stream",
     "text": [
      "Something\n"
     ]
    }
   ],
   "source": [
    "# Dies ist ein Kommentar\n",
    "print(\"Something\")"
   ]
  },
  {
   "cell_type": "code",
   "execution_count": 6,
   "id": "be14af66-6779-4b20-9601-211ce5bb23d5",
   "metadata": {},
   "outputs": [],
   "source": [
    "# Dies ist ein Kommentar\n",
    "# print(\"Someting\")"
   ]
  },
  {
   "cell_type": "markdown",
   "id": "c9c691c0-41d5-43b7-b3df-86eba36c5934",
   "metadata": {},
   "source": [
    "## Einfache Datentypen"
   ]
  },
  {
   "cell_type": "code",
   "execution_count": 8,
   "id": "d79cf500-1205-49e9-97d5-9abb64d2aa6b",
   "metadata": {},
   "outputs": [],
   "source": [
    "# Variablen und Wertezuweisungen\n",
    "name = \"Lovelace\""
   ]
  },
  {
   "cell_type": "code",
   "execution_count": 9,
   "id": "413c2c45-679e-4ac5-b8e8-b148d4657fd3",
   "metadata": {},
   "outputs": [
    {
     "name": "stdout",
     "output_type": "stream",
     "text": [
      "Lovelace\n"
     ]
    }
   ],
   "source": [
    "print(name)"
   ]
  },
  {
   "cell_type": "code",
   "execution_count": 21,
   "id": "b17c0493-73be-434b-9de7-f33d8cae85e5",
   "metadata": {},
   "outputs": [
    {
     "name": "stdout",
     "output_type": "stream",
     "text": [
      "Ada\n"
     ]
    }
   ],
   "source": [
    "# String - Zeichenkette\n",
    "first_name = \"Ada\"\n",
    "print(first_name)"
   ]
  },
  {
   "cell_type": "code",
   "execution_count": 12,
   "id": "676ae66b-76fe-474d-b1b5-0118976b66e1",
   "metadata": {},
   "outputs": [
    {
     "name": "stdout",
     "output_type": "stream",
     "text": [
      "37\n"
     ]
    }
   ],
   "source": [
    "# Integer - Ganzzahlen\n",
    "age = 37\n",
    "print(age)"
   ]
  },
  {
   "cell_type": "code",
   "execution_count": 13,
   "id": "e1036a2a-7b1e-434f-9867-00b886320cc4",
   "metadata": {},
   "outputs": [
    {
     "name": "stdout",
     "output_type": "stream",
     "text": [
      "1.7123\n"
     ]
    }
   ],
   "source": [
    "# Float - Gleitkommazahlen\n",
    "size = 1.7123\n",
    "print(size)"
   ]
  },
  {
   "cell_type": "code",
   "execution_count": 14,
   "id": "a19f1567-ec52-4c7b-bb58-1c09b077df2f",
   "metadata": {},
   "outputs": [
    {
     "name": "stdout",
     "output_type": "stream",
     "text": [
      "True\n",
      "False\n"
     ]
    }
   ],
   "source": [
    "# Boolean - Boolsche Werte\n",
    "knows_math = True\n",
    "print(knows_math)\n",
    "likes_gardening = False\n",
    "print(likes_gardening)"
   ]
  },
  {
   "cell_type": "code",
   "execution_count": 17,
   "id": "e004a39a-b580-437b-82a1-30d84d4192ea",
   "metadata": {},
   "outputs": [
    {
     "data": {
      "text/plain": [
       "bool"
      ]
     },
     "execution_count": 17,
     "metadata": {},
     "output_type": "execute_result"
    }
   ],
   "source": [
    "# Typen anzeigen lassen\n",
    "type(knows_math)"
   ]
  },
  {
   "cell_type": "code",
   "execution_count": 20,
   "id": "eb363fab-4d8a-4a8f-a371-658a3993a81f",
   "metadata": {},
   "outputs": [
    {
     "name": "stdout",
     "output_type": "stream",
     "text": [
      "Ada Lovelace\n"
     ]
    }
   ],
   "source": [
    "print(first_name + \" \" + name)"
   ]
  },
  {
   "cell_type": "markdown",
   "id": "bc9d2c0a-d2ce-4033-a062-68728bd7ba95",
   "metadata": {
    "editable": true,
    "slideshow": {
     "slide_type": ""
    },
    "tags": []
   },
   "source": [
    "## Operatoren"
   ]
  },
  {
   "cell_type": "code",
   "execution_count": 22,
   "id": "6802a45b-a527-4e5f-87ce-bb0d0a030963",
   "metadata": {},
   "outputs": [
    {
     "data": {
      "text/plain": [
       "10"
      ]
     },
     "execution_count": 22,
     "metadata": {},
     "output_type": "execute_result"
    }
   ],
   "source": [
    "# Addition\n",
    "5 + 5"
   ]
  },
  {
   "cell_type": "code",
   "execution_count": 23,
   "id": "0dff2778-3551-490d-9621-29f3c32bb2c6",
   "metadata": {},
   "outputs": [
    {
     "data": {
      "text/plain": [
       "3700"
      ]
     },
     "execution_count": 23,
     "metadata": {},
     "output_type": "execute_result"
    }
   ],
   "source": [
    "# Multiplikation\n",
    "age * 100"
   ]
  },
  {
   "cell_type": "code",
   "execution_count": 25,
   "id": "c9c9c6f0-a255-4d73-9b57-c7bc2cfa9926",
   "metadata": {},
   "outputs": [
    {
     "name": "stdout",
     "output_type": "stream",
     "text": [
      "LovelaceLovelace\n"
     ]
    }
   ],
   "source": [
    "# Verkettung von strings\n",
    "print(name + name)"
   ]
  },
  {
   "cell_type": "code",
   "execution_count": 27,
   "id": "77a3a4c8-ec26-4ef7-b3ae-b007083f6be0",
   "metadata": {},
   "outputs": [
    {
     "name": "stdout",
     "output_type": "stream",
     "text": [
      "Ada Lovelace\n"
     ]
    }
   ],
   "source": [
    "print(first_name + \" \" + name)"
   ]
  },
  {
   "cell_type": "code",
   "execution_count": 28,
   "id": "dc39318b-d304-428e-8e77-914ac83a967a",
   "metadata": {},
   "outputs": [
    {
     "data": {
      "text/plain": [
       "'LovelaceLovelaceLovelaceLovelaceLovelaceLovelaceLovelaceLovelaceLovelaceLovelace'"
      ]
     },
     "execution_count": 28,
     "metadata": {},
     "output_type": "execute_result"
    }
   ],
   "source": [
    "name * 10"
   ]
  },
  {
   "cell_type": "code",
   "execution_count": 31,
   "id": "a9cb6c56-746b-40cf-b49d-380666eb1f35",
   "metadata": {},
   "outputs": [
    {
     "ename": "TypeError",
     "evalue": "can only concatenate str (not \"int\") to str",
     "output_type": "error",
     "traceback": [
      "\u001b[1;31m---------------------------------------------------------------------------\u001b[0m",
      "\u001b[1;31mTypeError\u001b[0m                                 Traceback (most recent call last)",
      "Cell \u001b[1;32mIn[31], line 1\u001b[0m\n\u001b[1;32m----> 1\u001b[0m \u001b[43mname\u001b[49m\u001b[43m \u001b[49m\u001b[38;5;241;43m+\u001b[39;49m\u001b[43m \u001b[49m\u001b[38;5;241;43m10\u001b[39;49m\n",
      "\u001b[1;31mTypeError\u001b[0m: can only concatenate str (not \"int\") to str"
     ]
    }
   ],
   "source": [
    "name + 10"
   ]
  },
  {
   "cell_type": "code",
   "execution_count": 30,
   "id": "ec950cb6-596f-4c6f-b85b-9812b3b9896e",
   "metadata": {},
   "outputs": [
    {
     "data": {
      "text/plain": [
       "'Lovelace10'"
      ]
     },
     "execution_count": 30,
     "metadata": {},
     "output_type": "execute_result"
    }
   ],
   "source": [
    "name + \"10\""
   ]
  },
  {
   "cell_type": "code",
   "execution_count": 32,
   "id": "a548861e-2022-4d58-8282-8d588c6e05e2",
   "metadata": {},
   "outputs": [
    {
     "data": {
      "text/plain": [
       "0.04627837837837838"
      ]
     },
     "execution_count": 32,
     "metadata": {},
     "output_type": "execute_result"
    }
   ],
   "source": [
    "size / age"
   ]
  },
  {
   "cell_type": "code",
   "execution_count": 33,
   "id": "65dd13f6-58aa-436d-a356-f1e869808e45",
   "metadata": {},
   "outputs": [],
   "source": [
    "number_of_articles = \"50\""
   ]
  },
  {
   "cell_type": "code",
   "execution_count": 34,
   "id": "62b24ce5-66e2-4c5c-ab04-566a250c04d5",
   "metadata": {},
   "outputs": [
    {
     "ename": "TypeError",
     "evalue": "unsupported operand type(s) for /: 'str' and 'int'",
     "output_type": "error",
     "traceback": [
      "\u001b[1;31m---------------------------------------------------------------------------\u001b[0m",
      "\u001b[1;31mTypeError\u001b[0m                                 Traceback (most recent call last)",
      "Cell \u001b[1;32mIn[34], line 1\u001b[0m\n\u001b[1;32m----> 1\u001b[0m \u001b[43mnumber_of_articles\u001b[49m\u001b[43m \u001b[49m\u001b[38;5;241;43m/\u001b[39;49m\u001b[43m \u001b[49m\u001b[38;5;241;43m10\u001b[39;49m\n",
      "\u001b[1;31mTypeError\u001b[0m: unsupported operand type(s) for /: 'str' and 'int'"
     ]
    }
   ],
   "source": [
    "number_of_articles / 10"
   ]
  },
  {
   "cell_type": "code",
   "execution_count": 35,
   "id": "2607fbf6-b8d2-4895-b434-ef9f0dd5fb2c",
   "metadata": {},
   "outputs": [
    {
     "data": {
      "text/plain": [
       "5.0"
      ]
     },
     "execution_count": 35,
     "metadata": {},
     "output_type": "execute_result"
    }
   ],
   "source": [
    "int(number_of_articles) / 10"
   ]
  },
  {
   "cell_type": "markdown",
   "id": "821a3e28-8930-4982-9157-021a0ce28235",
   "metadata": {},
   "source": [
    "## Funktionen und Methoden"
   ]
  },
  {
   "cell_type": "code",
   "execution_count": 37,
   "id": "ff889005-6a87-4021-b5d0-9dab54955f8d",
   "metadata": {},
   "outputs": [
    {
     "data": {
      "text/plain": [
       "8"
      ]
     },
     "execution_count": 37,
     "metadata": {},
     "output_type": "execute_result"
    }
   ],
   "source": [
    "# Funktion\n",
    "len(name)"
   ]
  },
  {
   "cell_type": "code",
   "execution_count": 38,
   "id": "e91b4807-b737-41ec-8bfd-45afed1b5f2f",
   "metadata": {},
   "outputs": [
    {
     "data": {
      "text/plain": [
       "'LOVELACE'"
      ]
     },
     "execution_count": 38,
     "metadata": {},
     "output_type": "execute_result"
    }
   ],
   "source": [
    "# Methode\n",
    "name.upper()"
   ]
  },
  {
   "cell_type": "code",
   "execution_count": 39,
   "id": "e3f43169-6886-41ba-bffa-8ec962e2595a",
   "metadata": {},
   "outputs": [
    {
     "data": {
      "text/plain": [
       "'Lovelace'"
      ]
     },
     "execution_count": 39,
     "metadata": {},
     "output_type": "execute_result"
    }
   ],
   "source": [
    "name"
   ]
  },
  {
   "cell_type": "code",
   "execution_count": 40,
   "id": "4e776086-68b9-4268-836d-40a74ab50b46",
   "metadata": {},
   "outputs": [
    {
     "data": {
      "text/plain": [
       "2"
      ]
     },
     "execution_count": 40,
     "metadata": {},
     "output_type": "execute_result"
    }
   ],
   "source": [
    "# Methode mit einem Argument\n",
    "name.count(\"e\")"
   ]
  },
  {
   "cell_type": "code",
   "execution_count": 41,
   "id": "de8ec11f-c6eb-4baf-b8b6-a568c87b4c71",
   "metadata": {},
   "outputs": [
    {
     "data": {
      "text/plain": [
       "1"
      ]
     },
     "execution_count": 41,
     "metadata": {},
     "output_type": "execute_result"
    }
   ],
   "source": [
    "name.count(\"l\")"
   ]
  },
  {
   "cell_type": "code",
   "execution_count": 42,
   "id": "f7dc747c-9762-4083-8741-5938ce692813",
   "metadata": {},
   "outputs": [
    {
     "data": {
      "text/plain": [
       "2"
      ]
     },
     "execution_count": 42,
     "metadata": {},
     "output_type": "execute_result"
    }
   ],
   "source": [
    "name.upper().count(\"L\")"
   ]
  },
  {
   "cell_type": "code",
   "execution_count": 43,
   "id": "fa082671-925f-4d2d-84af-196520cbd6b2",
   "metadata": {},
   "outputs": [],
   "source": [
    "name_upper = name.upper()"
   ]
  },
  {
   "cell_type": "code",
   "execution_count": 45,
   "id": "6ec5d375-2445-4e3c-9911-8a11de19ccd7",
   "metadata": {},
   "outputs": [
    {
     "name": "stdout",
     "output_type": "stream",
     "text": [
      "LOVELACE\n"
     ]
    }
   ],
   "source": [
    "print(name_upper)"
   ]
  },
  {
   "cell_type": "code",
   "execution_count": 47,
   "id": "f827cb46-87e3-4c6b-a5ca-abae6cb402e2",
   "metadata": {},
   "outputs": [
    {
     "data": {
      "text/plain": [
       "'Love is evrywhere'"
      ]
     },
     "execution_count": 47,
     "metadata": {},
     "output_type": "execute_result"
    }
   ],
   "source": [
    "# Methode mit zwei Argumenten\n",
    "name.replace(\"lace\", \" is evrywhere\")"
   ]
  },
  {
   "cell_type": "markdown",
   "id": "4cf2df35-0078-4849-9836-e8903f6b7d3c",
   "metadata": {},
   "source": [
    "## Listen und Dictionaries"
   ]
  },
  {
   "cell_type": "code",
   "execution_count": 49,
   "id": "252c50d5-9fd8-4669-889e-d09af49a8567",
   "metadata": {},
   "outputs": [],
   "source": [
    "names = [\"Lovelace\", \"Darwin\", \"Noether\", \"Hawking\"]"
   ]
  },
  {
   "cell_type": "code",
   "execution_count": 50,
   "id": "f327ff11-fcce-48d3-86b3-f2601558a672",
   "metadata": {},
   "outputs": [
    {
     "data": {
      "text/plain": [
       "['Lovelace', 'Darwin', 'Noether', 'Hawking']"
      ]
     },
     "execution_count": 50,
     "metadata": {},
     "output_type": "execute_result"
    }
   ],
   "source": [
    "names"
   ]
  },
  {
   "cell_type": "code",
   "execution_count": 51,
   "id": "d4395e88-c739-4f4e-988c-70c501b9d4f3",
   "metadata": {},
   "outputs": [
    {
     "data": {
      "text/plain": [
       "'Darwin'"
      ]
     },
     "execution_count": 51,
     "metadata": {},
     "output_type": "execute_result"
    }
   ],
   "source": [
    "names[1]"
   ]
  },
  {
   "cell_type": "code",
   "execution_count": 52,
   "id": "c3a1a29e-a19f-46e6-bff5-873213f57781",
   "metadata": {},
   "outputs": [
    {
     "data": {
      "text/plain": [
       "'Lovelace'"
      ]
     },
     "execution_count": 52,
     "metadata": {},
     "output_type": "execute_result"
    }
   ],
   "source": [
    "names[0]"
   ]
  },
  {
   "cell_type": "code",
   "execution_count": 53,
   "id": "c4fbd9f8-5264-43a7-b4d3-8e800ab868bb",
   "metadata": {},
   "outputs": [
    {
     "data": {
      "text/plain": [
       "'Hawking'"
      ]
     },
     "execution_count": 53,
     "metadata": {},
     "output_type": "execute_result"
    }
   ],
   "source": [
    "#letzer Wert\n",
    "names[-1]"
   ]
  },
  {
   "cell_type": "code",
   "execution_count": 55,
   "id": "6ed01b3f-8123-4100-b358-0d0eac055716",
   "metadata": {},
   "outputs": [
    {
     "data": {
      "text/plain": [
       "['Lovelace', 'Darwin', 'Noether']"
      ]
     },
     "execution_count": 55,
     "metadata": {},
     "output_type": "execute_result"
    }
   ],
   "source": [
    "# Erstes Element inklusive, letztes exklusive\n",
    "names[0:3]"
   ]
  },
  {
   "cell_type": "code",
   "execution_count": 56,
   "id": "76f2f2f6-67c2-45ae-a763-e629cbf1220e",
   "metadata": {},
   "outputs": [
    {
     "data": {
      "text/plain": [
       "['Lovelace', 'Darwin']"
      ]
     },
     "execution_count": 56,
     "metadata": {},
     "output_type": "execute_result"
    }
   ],
   "source": [
    "# Slicing\n",
    "names[:2]"
   ]
  },
  {
   "cell_type": "code",
   "execution_count": 57,
   "id": "a8f1d92f-d330-4dde-9927-ddff6b743799",
   "metadata": {
    "scrolled": true
   },
   "outputs": [
    {
     "data": {
      "text/plain": [
       "['Noether', 'Hawking']"
      ]
     },
     "execution_count": 57,
     "metadata": {},
     "output_type": "execute_result"
    }
   ],
   "source": [
    "names[2:]"
   ]
  },
  {
   "cell_type": "code",
   "execution_count": 58,
   "id": "1e12b166-4a80-4399-b336-19006d41adca",
   "metadata": {},
   "outputs": [],
   "source": [
    "# Schlüssel- Wertpaare bei Dictionairies\n",
    "authors_and_birthyears = {\"Lovelace\": 1815, \n",
    "                          \"Darwin\": 1809, \n",
    "                          \"Noether\": 1882, \n",
    "                          \"Hawking\": 1942}"
   ]
  },
  {
   "cell_type": "code",
   "execution_count": 59,
   "id": "2680ffec-6db3-451c-9422-aa584e737b3b",
   "metadata": {
    "scrolled": true
   },
   "outputs": [
    {
     "data": {
      "text/plain": [
       "1809"
      ]
     },
     "execution_count": 59,
     "metadata": {},
     "output_type": "execute_result"
    }
   ],
   "source": [
    "authors_and_birthyears[\"Darwin\"]"
   ]
  },
  {
   "cell_type": "code",
   "execution_count": 60,
   "id": "45ebfbc2-f0a3-407d-a943-700f1e512b04",
   "metadata": {},
   "outputs": [
    {
     "data": {
      "text/plain": [
       "dict_keys(['Lovelace', 'Darwin', 'Noether', 'Hawking'])"
      ]
     },
     "execution_count": 60,
     "metadata": {},
     "output_type": "execute_result"
    }
   ],
   "source": [
    "authors_and_birthyears.keys()"
   ]
  },
  {
   "cell_type": "markdown",
   "id": "91bb3885-3248-4279-8293-fe2e6fa86c85",
   "metadata": {},
   "source": [
    "## For-Schleifen\n"
   ]
  },
  {
   "cell_type": "code",
   "execution_count": 61,
   "id": "cff178b0-8e41-4b97-8d6b-d6f908246147",
   "metadata": {},
   "outputs": [
    {
     "data": {
      "text/plain": [
       "['Lovelace', 'Darwin', 'Noether', 'Hawking']"
      ]
     },
     "execution_count": 61,
     "metadata": {},
     "output_type": "execute_result"
    }
   ],
   "source": [
    "names"
   ]
  },
  {
   "cell_type": "code",
   "execution_count": 72,
   "id": "e9e20c5b-f56b-4305-b5d9-84365e574bd7",
   "metadata": {},
   "outputs": [
    {
     "name": "stdout",
     "output_type": "stream",
     "text": [
      "Lovelace did awsome stuff.\n",
      "------\n",
      "Darwin did awsome stuff.\n",
      "------\n",
      "Noether did awsome stuff.\n",
      "------\n",
      "Hawking did awsome stuff.\n",
      "------\n"
     ]
    }
   ],
   "source": [
    "for person in names:\n",
    "    print(person + \" did awsome stuff.\")\n",
    "    print(\"------\")"
   ]
  },
  {
   "cell_type": "code",
   "execution_count": 67,
   "id": "1371e65e-5909-43ff-9763-70a5ff2c6f6e",
   "metadata": {},
   "outputs": [
    {
     "name": "stdout",
     "output_type": "stream",
     "text": [
      "Hawking\n"
     ]
    }
   ],
   "source": [
    "print(person)"
   ]
  },
  {
   "cell_type": "code",
   "execution_count": 73,
   "id": "6c789970-da1f-4dc3-849a-ad6f2679fe59",
   "metadata": {},
   "outputs": [
    {
     "name": "stdout",
     "output_type": "stream",
     "text": [
      "Variable                 Type     Data/Info\n",
      "-------------------------------------------\n",
      "age                      int      37\n",
      "authors_and_birthyears   dict     n=4\n",
      "first_name               str      Ada\n",
      "knows_math               bool     True\n",
      "likes_gardening          bool     False\n",
      "name                     str      Lovelace\n",
      "name_upper               str      LOVELACE\n",
      "names                    list     n=4\n",
      "number_of_articles       str      50\n",
      "person                   str      Hawking\n",
      "size                     float    1.7123\n"
     ]
    }
   ],
   "source": [
    "#Variablenübersicht (nur notebook)\n",
    "%whos"
   ]
  },
  {
   "cell_type": "code",
   "execution_count": 71,
   "id": "444bb416-82ae-494b-bc2a-1b84752e8fc0",
   "metadata": {},
   "outputs": [],
   "source": [
    "#Variable löschen\n",
    "del person"
   ]
  },
  {
   "cell_type": "markdown",
   "id": "9e300642-1a00-4cc5-a2c9-d02e431a11c9",
   "metadata": {},
   "source": [
    "## Conditionals (Bedingte Anweisungen)"
   ]
  },
  {
   "cell_type": "code",
   "execution_count": 74,
   "id": "1a7eb3da-e7b6-4719-aa3d-880a8f54ba9b",
   "metadata": {},
   "outputs": [],
   "source": [
    "temp = 20"
   ]
  },
  {
   "cell_type": "code",
   "execution_count": 75,
   "id": "3ab27ce4-933d-457e-8204-c2f9edc297be",
   "metadata": {},
   "outputs": [
    {
     "name": "stdout",
     "output_type": "stream",
     "text": [
      "Es ist warm! :-)\n"
     ]
    }
   ],
   "source": [
    "if temp > 15:\n",
    "    print(\"Es ist warm! :-)\")"
   ]
  },
  {
   "cell_type": "code",
   "execution_count": 76,
   "id": "167adb01-6fe3-4aa0-a5d9-654294b505b1",
   "metadata": {},
   "outputs": [
    {
     "data": {
      "text/plain": [
       "True"
      ]
     },
     "execution_count": 76,
     "metadata": {},
     "output_type": "execute_result"
    }
   ],
   "source": [
    "20 > 15"
   ]
  },
  {
   "cell_type": "code",
   "execution_count": 77,
   "id": "51296e50-732d-41bd-86f4-ca44ea23aa4c",
   "metadata": {},
   "outputs": [
    {
     "name": "stdout",
     "output_type": "stream",
     "text": [
      "Es ist kalt!\n"
     ]
    }
   ],
   "source": [
    "temp = 10\n",
    "if temp > 15:\n",
    "    print(\"Es ist warm! :-)\")\n",
    "else:\n",
    "    print(\"Es ist kalt!\")"
   ]
  },
  {
   "cell_type": "code",
   "execution_count": 80,
   "id": "3bb2aac6-237f-4e10-841c-351de4c717d7",
   "metadata": {},
   "outputs": [
    {
     "name": "stdout",
     "output_type": "stream",
     "text": [
      "Es ist warm.\n"
     ]
    }
   ],
   "source": [
    "temp = 15\n",
    "if temp > 25:\n",
    "    print(\"Es ist heiss.\")\n",
    "elif temp >= 15:\n",
    "    print(\"Es ist warm.\")\n",
    "else:\n",
    "    print(\"Es ist kalt.\")"
   ]
  },
  {
   "cell_type": "code",
   "execution_count": 82,
   "id": "d394bec1-1473-45aa-a234-9aa2c3f7b4ec",
   "metadata": {},
   "outputs": [
    {
     "name": "stdout",
     "output_type": "stream",
     "text": [
      "Es ist warm.\n"
     ]
    }
   ],
   "source": [
    "# Reihenfolge ist wichtig!\n",
    "temp = 30\n",
    "if temp >= 15:\n",
    "    print(\"Es ist warm.\")\n",
    "elif temp > 25:\n",
    "    print(\"Es ist heiss.\")\n",
    "else:\n",
    "    print(\"Es ist kalt.\")"
   ]
  },
  {
   "cell_type": "code",
   "execution_count": null,
   "id": "53efd734-fcae-4cac-8639-d99bcc4580c9",
   "metadata": {},
   "outputs": [],
   "source": []
  }
 ],
 "metadata": {
  "kernelspec": {
   "display_name": "Python 3 (ipykernel)",
   "language": "python",
   "name": "python3"
  },
  "language_info": {
   "codemirror_mode": {
    "name": "ipython",
    "version": 3
   },
   "file_extension": ".py",
   "mimetype": "text/x-python",
   "name": "python",
   "nbconvert_exporter": "python",
   "pygments_lexer": "ipython3",
   "version": "3.12.7"
  }
 },
 "nbformat": 4,
 "nbformat_minor": 5
}
